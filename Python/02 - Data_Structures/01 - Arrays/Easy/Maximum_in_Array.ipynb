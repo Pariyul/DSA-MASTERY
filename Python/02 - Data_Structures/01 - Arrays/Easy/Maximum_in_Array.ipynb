{
 "cells": [
  {
   "cell_type": "markdown",
   "metadata": {},
   "source": [
    "# Find the Maximum and Minimum in an Array\n",
    "\n",
    "**Problem:**  *Given an array, write a Python function to find the maximum and minimum elements.*\n",
    "\n",
    "**Example:**\n",
    "\n",
    "arr = [3, 5, 7, 2, 8]\n",
    "\n",
    "**Output:** Max = 8, Min = 2"
   ]
  },
  {
   "cell_type": "code",
   "execution_count": 1,
   "metadata": {},
   "outputs": [
    {
     "name": "stdout",
     "output_type": "stream",
     "text": [
      "Max = 8,Min = 2\n"
     ]
    }
   ],
   "source": [
    "def find_max_min(arr):\n",
    "    if len(arr) == 0:  # Check for an empty array\n",
    "        return None, None\n",
    "\n",
    "    max_val = arr[0]  # Initialize max and min with the first element\n",
    "    min_val = arr[0]\n",
    "\n",
    "    for num in arr:\n",
    "        if num > max_val:\n",
    "            max_val = num\n",
    "        if num < min_val:\n",
    "            min_val = num\n",
    "\n",
    "    return max_val, min_val\n",
    "\n",
    "# Example\n",
    "arr = [3, 5, 7, 2, 8]\n",
    "Max , Min = find_max_min(arr)\n",
    "\n",
    "print(f\"Max = {Max},Min = {Min}\")\n"
   ]
  }
 ],
 "metadata": {
  "kernelspec": {
   "display_name": "base",
   "language": "python",
   "name": "python3"
  },
  "language_info": {
   "codemirror_mode": {
    "name": "ipython",
    "version": 3
   },
   "file_extension": ".py",
   "mimetype": "text/x-python",
   "name": "python",
   "nbconvert_exporter": "python",
   "pygments_lexer": "ipython3",
   "version": "3.12.5"
  }
 },
 "nbformat": 4,
 "nbformat_minor": 2
}
