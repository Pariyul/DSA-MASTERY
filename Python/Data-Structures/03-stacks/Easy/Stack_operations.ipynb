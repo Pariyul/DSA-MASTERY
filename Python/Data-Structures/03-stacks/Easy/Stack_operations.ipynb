{
 "cells": [
  {
   "cell_type": "markdown",
   "metadata": {},
   "source": [
    "### Problem: Basic Stack Operations\n",
    "\n",
    "- **Problem**: Implement a stack with basic operations such as `push`, `pop`, `peek`, and `is_empty`. Stacks follow a Last In, First Out (LIFO) structure.\n",
    "- **Example**:\n",
    "  ```python\n",
    "  stack = Stack()\n",
    "  stack.push(10)  # Stack: [10]\n",
    "  stack.push(20)  # Stack: [10, 20]\n",
    "  print(stack.pop())  # Output: 20, Stack: [10]\n",
    "  print(stack.peek())  # Output: 10, Stack: [10]\n",
    "  print(stack.is_empty())  # Output: False\n"
   ]
  },
  {
   "cell_type": "code",
   "execution_count": 1,
   "metadata": {},
   "outputs": [
    {
     "name": "stdout",
     "output_type": "stream",
     "text": [
      "20\n",
      "10\n",
      "False\n",
      "[10]\n"
     ]
    }
   ],
   "source": [
    "class Stack:\n",
    "    def __init__(self):\n",
    "        # Initialize an empty list to hold stack elements\n",
    "        self.stack = []\n",
    "    \n",
    "    def push(self, value):\n",
    "        \"\"\"Push an element onto the stack.\"\"\"\n",
    "        self.stack.append(value)\n",
    "    \n",
    "    def pop(self):\n",
    "        \"\"\"Remove and return the top element of the stack.\"\"\"\n",
    "        if not self.is_empty():\n",
    "            return self.stack.pop()\n",
    "        else:\n",
    "            return \"Stack is empty\"\n",
    "    \n",
    "    def peek(self):\n",
    "        \"\"\"Return the top element without removing it.\"\"\"\n",
    "        if not self.is_empty():\n",
    "            return self.stack[-1]\n",
    "        else:\n",
    "            return \"Stack is empty\"\n",
    "    \n",
    "    def is_empty(self):\n",
    "        \"\"\"Check if the stack is empty.\"\"\"\n",
    "        return len(self.stack) == 0\n",
    "    \n",
    "    def display(self):\n",
    "        \"\"\"Display the stack.\"\"\"\n",
    "        return self.stack\n",
    "\n",
    "# Example\n",
    "stack = Stack()\n",
    "stack.push(10)  # Stack: [10]\n",
    "stack.push(20)  # Stack: [10, 20]\n",
    "print(stack.pop())  # Output: 20, Stack: [10]\n",
    "print(stack.peek())  # Output: 10, Stack: [10]\n",
    "print(stack.is_empty())  # Output: False\n",
    "print(stack.display())  # Output: [10]\n"
   ]
  }
 ],
 "metadata": {
  "kernelspec": {
   "display_name": "base",
   "language": "python",
   "name": "python3"
  },
  "language_info": {
   "codemirror_mode": {
    "name": "ipython",
    "version": 3
   },
   "file_extension": ".py",
   "mimetype": "text/x-python",
   "name": "python",
   "nbconvert_exporter": "python",
   "pygments_lexer": "ipython3",
   "version": "3.12.5"
  }
 },
 "nbformat": 4,
 "nbformat_minor": 2
}
