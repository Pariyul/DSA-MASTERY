{
 "cells": [
  {
   "cell_type": "markdown",
   "metadata": {},
   "source": [
    "### Problem: Remove Duplicates from Array\n",
    "\n",
    "- **Problem**: Given an array, write a function to remove duplicates without using extra space.\n",
    "- **Example**:\n",
    "  ```python\n",
    "  arr = [1, 2, 2, 3, 4, 4, 5]\n",
    "  # Output: [1, 2, 3, 4, 5]\n"
   ]
  },
  {
   "cell_type": "code",
   "execution_count": 1,
   "metadata": {},
   "outputs": [
    {
     "name": "stdout",
     "output_type": "stream",
     "text": [
      "[1, 2, 3, 4, 5]\n"
     ]
    }
   ],
   "source": [
    "def remove_duplicates(arr):\n",
    "    if len(arr) == 0:\n",
    "        return []\n",
    "    \n",
    "    # Pointer for the position of the unique element\n",
    "    unique_index = 0\n",
    "\n",
    "    # Iterate through the array, starting from the second element\n",
    "    for i in range(1, len(arr)):\n",
    "        # If the current element is not equal to the element at unique_index\n",
    "        if arr[i] != arr[unique_index]:\n",
    "            unique_index += 1  # Move the unique_index\n",
    "            arr[unique_index] = arr[i]  # Place the non-duplicate element at unique_index\n",
    "    \n",
    "    # Return the portion of the array with unique elements\n",
    "    return arr[:unique_index + 1]\n",
    "\n",
    "# Example\n",
    "arr = [1, 2, 2, 3, 4, 4, 5]\n",
    "print(remove_duplicates(arr))  # Output: [1, 2, 3, 4, 5]\n"
   ]
  },
  {
   "cell_type": "code",
   "execution_count": null,
   "metadata": {},
   "outputs": [],
   "source": []
  }
 ],
 "metadata": {
  "kernelspec": {
   "display_name": "base",
   "language": "python",
   "name": "python3"
  },
  "language_info": {
   "codemirror_mode": {
    "name": "ipython",
    "version": 3
   },
   "file_extension": ".py",
   "mimetype": "text/x-python",
   "name": "python",
   "nbconvert_exporter": "python",
   "pygments_lexer": "ipython3",
   "version": "3.12.5"
  }
 },
 "nbformat": 4,
 "nbformat_minor": 2
}
